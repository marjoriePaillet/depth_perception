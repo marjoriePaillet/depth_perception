{
 "cells": [
  {
   "cell_type": "markdown",
   "id": "38a115c4",
   "metadata": {},
   "source": [
    "**Compute gripper rotation matrix from arm joints present position**"
   ]
  },
  {
   "cell_type": "code",
   "execution_count": 1,
   "id": "eb02096f",
   "metadata": {},
   "outputs": [],
   "source": [
    "from reachy_sdk import ReachySDK\n",
    "from reachy_sdk.trajectory import goto\n",
    "from scipy.spatial.transform import Rotation as R\n",
    "import numpy as np\n",
    "\n",
    "reachy = ReachySDK(host='localhost')"
   ]
  },
  {
   "cell_type": "code",
   "execution_count": 3,
   "id": "d1d18e04",
   "metadata": {},
   "outputs": [],
   "source": [
    "r1 = R.from_euler('y', np.deg2rad(reachy.r_arm.r_shoulder_pitch.present_position))\n",
    "r2 = R.from_euler('x', np.deg2rad(reachy.r_arm.r_shoulder_roll.present_position))\n",
    "r3 = R.from_euler('z', np.deg2rad(reachy.r_arm.r_arm_yaw.present_position))\n",
    "r4 = R.from_euler('y', np.deg2rad(reachy.r_arm.r_elbow_pitch.present_position))\n",
    "r5 = R.from_euler('z', np.deg2rad(reachy.r_arm.r_forearm_yaw.present_position))\n",
    "r6 = R.from_euler('y', np.deg2rad(reachy.r_arm.r_wrist_pitch.present_position))\n",
    "r7 = R.from_euler('x', np.deg2rad(reachy.r_arm.r_wrist_roll.present_position))\n",
    "r = r1 * r2 * r3 * r4 * r5* r6 * r7\n"
   ]
  },
  {
   "cell_type": "code",
   "execution_count": 4,
   "id": "c658c532",
   "metadata": {},
   "outputs": [
    {
     "name": "stdout",
     "output_type": "stream",
     "text": [
      "[[ 0.07757835 -0.46280197 -0.88306055  0.30879002]\n",
      " [ 0.05844804  0.88631773 -0.45937426 -0.11488889]\n",
      " [ 0.99527153 -0.01597566  0.09580894 -0.39461339]\n",
      " [ 0.          0.          0.          1.        ]]\n"
     ]
    }
   ],
   "source": [
    "print(reachy.r_arm.forward_kinematics())"
   ]
  },
  {
   "cell_type": "code",
   "execution_count": 5,
   "id": "3a8f0d31",
   "metadata": {},
   "outputs": [
    {
     "name": "stdout",
     "output_type": "stream",
     "text": [
      "[[ 0.07764797 -0.46403135 -0.88240903]\n",
      " [ 0.0584618   0.88567746 -0.46060574]\n",
      " [ 0.9952653  -0.01582212  0.09589916]]\n"
     ]
    }
   ],
   "source": [
    "print(r.as_matrix())"
   ]
  }
 ],
 "metadata": {
  "kernelspec": {
   "display_name": "Python 3",
   "language": "python",
   "name": "python3"
  },
  "language_info": {
   "codemirror_mode": {
    "name": "ipython",
    "version": 3
   },
   "file_extension": ".py",
   "mimetype": "text/x-python",
   "name": "python",
   "nbconvert_exporter": "python",
   "pygments_lexer": "ipython3",
   "version": "3.8.5"
  }
 },
 "nbformat": 4,
 "nbformat_minor": 5
}
