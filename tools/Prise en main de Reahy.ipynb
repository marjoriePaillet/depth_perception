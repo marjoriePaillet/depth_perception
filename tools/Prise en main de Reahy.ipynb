{
 "cells": [
  {
   "cell_type": "markdown",
   "id": "2ea1d6d2",
   "metadata": {},
   "source": [
    "# Prise en main de Reachy"
   ]
  },
  {
   "cell_type": "markdown",
   "id": "433f8290",
   "metadata": {},
   "source": [
    "**Imports utiles:**"
   ]
  },
  {
   "cell_type": "code",
   "execution_count": 1,
   "id": "38f2bb4f",
   "metadata": {},
   "outputs": [],
   "source": [
    "from reachy_sdk import ReachySDK\n",
    "from reachy_sdk.trajectory import goto"
   ]
  },
  {
   "cell_type": "markdown",
   "id": "edb95527",
   "metadata": {},
   "source": [
    "**Declaration de l'objet Reachy**"
   ]
  },
  {
   "cell_type": "code",
   "execution_count": 2,
   "id": "1addcb0d",
   "metadata": {},
   "outputs": [],
   "source": [
    "reachy = ReachySDK(host='localhost') #ou ip=***.**.**.*"
   ]
  },
  {
   "cell_type": "code",
   "execution_count": 3,
   "id": "561e21be",
   "metadata": {},
   "outputs": [],
   "source": [
    "import time\n",
    "import numpy as np\n",
    "from scipy.spatial.transform import Rotation as R"
   ]
  },
  {
   "cell_type": "markdown",
   "id": "2d7f69da",
   "metadata": {},
   "source": [
    "**Affichage de l'etat des joints**"
   ]
  },
  {
   "cell_type": "code",
   "execution_count": 8,
   "id": "14bffc57",
   "metadata": {
    "scrolled": true
   },
   "outputs": [
    {
     "name": "stdout",
     "output_type": "stream",
     "text": [
      "<Holder\n",
      "\t<Joint name=\"r_shoulder_pitch\" pos=\"20.60\" mode=\"compliant\">\n",
      "\t<Joint name=\"r_shoulder_roll\" pos=\"4.16\" mode=\"compliant\">\n",
      "\t<Joint name=\"r_arm_yaw\" pos=\"0.31\" mode=\"compliant\">\n",
      "\t<Joint name=\"r_elbow_pitch\" pos=\"-81.36\" mode=\"compliant\">\n",
      "\t<Joint name=\"r_forearm_yaw\" pos=\"8.94\" mode=\"compliant\">\n",
      "\t<Joint name=\"r_wrist_pitch\" pos=\"-23.87\" mode=\"compliant\">\n",
      "\t<Joint name=\"r_wrist_roll\" pos=\"12.76\" mode=\"compliant\">\n",
      "\t<Joint name=\"r_gripper\" pos=\"-57.33\" mode=\"compliant\">\n",
      ">\n"
     ]
    }
   ],
   "source": [
    "print(reachy.joints)"
   ]
  },
  {
   "cell_type": "markdown",
   "id": "c2890f6f",
   "metadata": {},
   "source": [
    "**Affichage de la matrice de pose du gripper droit**"
   ]
  },
  {
   "cell_type": "code",
   "execution_count": 11,
   "id": "edf8b0ad",
   "metadata": {},
   "outputs": [
    {
     "name": "stdout",
     "output_type": "stream",
     "text": [
      "[[ 0.08306464 -0.5215218  -0.84918507  0.31732196]\n",
      " [ 0.04126262  0.85319903 -0.51995077 -0.04287087]\n",
      " [ 0.99568954  0.00814992  0.09239002 -0.27461295]\n",
      " [ 0.          0.          0.          1.        ]]\n"
     ]
    }
   ],
   "source": [
    "print(reachy.r_arm.forward_kinematics())"
   ]
  },
  {
   "cell_type": "markdown",
   "id": "d1e164e8",
   "metadata": {},
   "source": [
    "**Allumage et extinction du bras droit de Reachy**"
   ]
  },
  {
   "cell_type": "code",
   "execution_count": 4,
   "id": "a26734f2",
   "metadata": {},
   "outputs": [
    {
     "name": "stderr",
     "output_type": "stream",
     "text": [
      "Exception in thread Thread-4:\n",
      "Traceback (most recent call last):\n",
      "  File \"/usr/lib/python3.8/threading.py\", line 932, in _bootstrap_inner\n",
      "    self.run()\n",
      "  File \"/usr/lib/python3.8/threading.py\", line 870, in run\n",
      "    self._target(*self._args, **self._kwargs)\n",
      "  File \"/home/reachy/dev/reachy-sdk/reachy_sdk/reachy_sdk.py\", line 176, in _start_sync_in_bg\n",
      "    loop.run_until_complete(self._sync_loop())\n",
      "  File \"/usr/lib/python3.8/asyncio/base_events.py\", line 616, in run_until_complete\n",
      "    return future.result()\n",
      "  File \"/home/reachy/dev/reachy-sdk/reachy_sdk/reachy_sdk.py\", line 231, in _sync_loop\n",
      "    await asyncio.gather(\n",
      "  File \"/home/reachy/dev/reachy-sdk/reachy_sdk/reachy_sdk.py\", line 186, in _get_stream_update_loop\n",
      "    async for state_update in joint_stub.StreamJointsState(stream_req):\n",
      "  File \"/home/reachy/.local/lib/python3.8/site-packages/grpc/aio/_call.py\", line 321, in _fetch_stream_responses\n",
      "    await self._raise_for_status()\n",
      "  File \"/home/reachy/.local/lib/python3.8/site-packages/grpc/aio/_call.py\", line 231, in _raise_for_status\n",
      "    raise _create_rpc_error(await self.initial_metadata(), await\n",
      "grpc.aio._call.AioRpcError: <AioRpcError of RPC that terminated with:\n",
      "\tstatus = StatusCode.UNAVAILABLE\n",
      "\tdetails = \"Cancelling all calls\"\n",
      "\tdebug_error_string = \"{\"created\":\"@1627649540.559482286\",\"description\":\"Error received from peer ipv6:[::1]:50055\",\"file\":\"src/core/lib/surface/call.cc\",\"file_line\":1066,\"grpc_message\":\"Cancelling all calls\",\"grpc_status\":14}\"\n",
      ">\n"
     ]
    }
   ],
   "source": [
    "reachy.turn_on('r_arm')\n",
    "reachy.turn_off_smoothly('r_arm') "
   ]
  },
  {
   "cell_type": "markdown",
   "id": "a3e299d1",
   "metadata": {},
   "source": [
    "**Envoi concis d'une commande a partir de la liste joint_pos des positions des joints**"
   ]
  },
  {
   "cell_type": "code",
   "execution_count": null,
   "id": "a625d535",
   "metadata": {},
   "outputs": [],
   "source": [
    "goto(goal_positions={joint: pos for joint,pos in zip(reachy.r_arm.joints.values(), joint_pos)}, duration=1.0)"
   ]
  },
  {
   "cell_type": "markdown",
   "id": "7145d507",
   "metadata": {},
   "source": [
    "**Envoi d'une commande a partir d'un dictionnaire avec choix d'un mode d'interpollation**"
   ]
  },
  {
   "cell_type": "code",
   "execution_count": null,
   "id": "87ca998a",
   "metadata": {},
   "outputs": [],
   "source": [
    "q = {\n",
    "    reachy.r_arm.r_shoulder_pitch: 0,\n",
    "    reachy.r_arm.r_shoulder_roll: 0,\n",
    "    reachy.r_arm.r_arm_yaw: 0,\n",
    "    reachy.r_arm.r_elbow_pitch: 0,\n",
    "    reachy.r_arm.r_forearm_yaw: 0,\n",
    "    reachy.r_arm.r_wrist_pitch: 0,\n",
    "    reachy.r_arm.r_wrist_roll: 0,\n",
    "}\n",
    "goto(q, duration=1.0, interpolation_mode=InterpolationMode.MINIMUM_JERK)"
   ]
  },
  {
   "cell_type": "markdown",
   "id": "10114a67",
   "metadata": {},
   "source": [
    "**Mettre compliant un joint en particulier (ici r_wrist_pitch)**"
   ]
  },
  {
   "cell_type": "code",
   "execution_count": null,
   "id": "96367f1e",
   "metadata": {},
   "outputs": [],
   "source": [
    "reachy.r_arm.r_wrist_pitch.compliant = True"
   ]
  },
  {
   "cell_type": "markdown",
   "id": "e6327f87",
   "metadata": {},
   "source": [
    "**Assignier une valeur a un joint en particulier (ici r_elbow_pitch)**"
   ]
  },
  {
   "cell_type": "code",
   "execution_count": 5,
   "id": "37eb88cf",
   "metadata": {},
   "outputs": [],
   "source": [
    "reachy.r_arm.r_elbow_pitch.goal_position = 50"
   ]
  }
 ],
 "metadata": {
  "kernelspec": {
   "display_name": "Python 3",
   "language": "python",
   "name": "python3"
  },
  "language_info": {
   "codemirror_mode": {
    "name": "ipython",
    "version": 3
   },
   "file_extension": ".py",
   "mimetype": "text/x-python",
   "name": "python",
   "nbconvert_exporter": "python",
   "pygments_lexer": "ipython3",
   "version": "3.8.5"
  }
 },
 "nbformat": 4,
 "nbformat_minor": 5
}
