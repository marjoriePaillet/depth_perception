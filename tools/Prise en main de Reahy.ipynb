{
 "cells": [
  {
   "cell_type": "markdown",
   "id": "2ea1d6d2",
   "metadata": {},
   "source": [
    "# Prise en main de Reachy"
   ]
  },
  {
   "cell_type": "markdown",
   "id": "433f8290",
   "metadata": {},
   "source": [
    "**Imports utiles:**"
   ]
  },
  {
   "cell_type": "code",
   "execution_count": 1,
   "id": "38f2bb4f",
   "metadata": {},
   "outputs": [],
   "source": [
    "from reachy_sdk import ReachySDK\n",
    "from reachy_sdk.trajectory import goto\\\n",
    "from reachy_sdk.trajectory.interpolation import InterpolationMode"
   ]
  },
  {
   "cell_type": "markdown",
   "id": "edb95527",
   "metadata": {},
   "source": [
    "**Declaration de l'objet Reachy**"
   ]
  },
  {
   "cell_type": "code",
   "execution_count": null,
   "id": "1addcb0d",
   "metadata": {},
   "outputs": [],
   "source": [
    "reachy = ReachySDK(host='localhost') #ou ip=***.**.**.*"
   ]
  },
  {
   "cell_type": "code",
   "execution_count": 3,
   "id": "561e21be",
   "metadata": {},
   "outputs": [],
   "source": [
    "import time\n",
    "import numpy as np\n",
    "from scipy.spatial.transform import Rotation as R"
   ]
  },
  {
   "cell_type": "markdown",
   "id": "2d7f69da",
   "metadata": {},
   "source": [
    "**Affichage de l'etat des joints**"
   ]
  },
  {
   "cell_type": "code",
   "execution_count": 6,
   "id": "14bffc57",
   "metadata": {
    "scrolled": true
   },
   "outputs": [
    {
     "name": "stdout",
     "output_type": "stream",
     "text": [
      "<Holder\n",
      "\t<Joint name=\"r_shoulder_pitch\" pos=\"-11.67\" mode=\"compliant\">\n",
      "\t<Joint name=\"r_shoulder_roll\" pos=\"2.13\" mode=\"compliant\">\n",
      "\t<Joint name=\"r_arm_yaw\" pos=\"3.38\" mode=\"compliant\">\n",
      "\t<Joint name=\"r_elbow_pitch\" pos=\"-91.03\" mode=\"compliant\">\n",
      "\t<Joint name=\"r_forearm_yaw\" pos=\"-4.25\" mode=\"compliant\">\n",
      "\t<Joint name=\"r_wrist_pitch\" pos=\"9.98\" mode=\"compliant\">\n",
      "\t<Joint name=\"r_wrist_roll\" pos=\"6.01\" mode=\"compliant\">\n",
      "\t<Joint name=\"r_gripper\" pos=\"17.16\" mode=\"compliant\">\n",
      ">\n"
     ]
    }
   ],
   "source": [
    "print(reachy.joints)"
   ]
  },
  {
   "cell_type": "markdown",
   "id": "c2890f6f",
   "metadata": {},
   "source": [
    "**Affichage de la matrice de pose du gripper droit**"
   ]
  },
  {
   "cell_type": "code",
   "execution_count": null,
   "id": "edf8b0ad",
   "metadata": {},
   "outputs": [],
   "source": [
    "print(reachy.r_arm.forward_kinematics())"
   ]
  },
  {
   "cell_type": "markdown",
   "id": "d1e164e8",
   "metadata": {},
   "source": [
    "**Allumage et extinction du bras droit de Reachy**"
   ]
  },
  {
   "cell_type": "code",
   "execution_count": null,
   "id": "a26734f2",
   "metadata": {},
   "outputs": [],
   "source": [
    "reachy.turn_on('r_arm')\n",
    "reachy.turn_off_smoothly('r_arm') "
   ]
  },
  {
   "cell_type": "markdown",
   "id": "a3e299d1",
   "metadata": {},
   "source": [
    "**Envoi concis d'une commande a partir de la liste joint_pos des positions des joints**"
   ]
  },
  {
   "cell_type": "code",
   "execution_count": null,
   "id": "a625d535",
   "metadata": {},
   "outputs": [],
   "source": [
    "goto(goal_positions={joint: pos for joint,pos in zip(reachy.r_arm.joints.values(), joint_pos)}, duration=1.0)"
   ]
  },
  {
   "cell_type": "markdown",
   "id": "7145d507",
   "metadata": {},
   "source": [
    "**Envoi d'une commande a partir d'un dictionnaire avec choix d'un mode d'interpollation**"
   ]
  },
  {
   "cell_type": "code",
   "execution_count": null,
   "id": "87ca998a",
   "metadata": {},
   "outputs": [],
   "source": [
    "q = {\n",
    "    reachy.r_arm.r_shoulder_pitch: 0,\n",
    "    reachy.r_arm.r_shoulder_roll: 0,\n",
    "    reachy.r_arm.r_arm_yaw: 0,\n",
    "    reachy.r_arm.r_elbow_pitch: 0,\n",
    "    reachy.r_arm.r_forearm_yaw: 0,\n",
    "    reachy.r_arm.r_wrist_pitch: 0,\n",
    "    reachy.r_arm.r_wrist_roll: 0,\n",
    "}\n",
    "goto(q, duration=1.0, interpolation_mode=InterpolationMode.MINIMUM_JERK)"
   ]
  },
  {
   "cell_type": "markdown",
   "id": "10114a67",
   "metadata": {},
   "source": [
    "**Mettre compliant un joint en particulier (ici r_wrist_pitch)**"
   ]
  },
  {
   "cell_type": "code",
   "execution_count": null,
   "id": "96367f1e",
   "metadata": {},
   "outputs": [],
   "source": [
    "reachy.r_arm.r_wrist_pitch.compliant = True"
   ]
  },
  {
   "cell_type": "markdown",
   "id": "e6327f87",
   "metadata": {},
   "source": [
    "**Assignier une valeur a un joint en particulier (ici r_elbow_pitch)**"
   ]
  },
  {
   "cell_type": "code",
   "execution_count": null,
   "id": "37eb88cf",
   "metadata": {},
   "outputs": [],
   "source": [
    "reachy.r_arm.r_elbow_pitch.goal_position = c"
   ]
  }
 ],
 "metadata": {
  "kernelspec": {
   "display_name": "Python 3",
   "language": "python",
   "name": "python3"
  },
  "language_info": {
   "codemirror_mode": {
    "name": "ipython",
    "version": 3
   },
   "file_extension": ".py",
   "mimetype": "text/x-python",
   "name": "python",
   "nbconvert_exporter": "python",
   "pygments_lexer": "ipython3",
   "version": "3.8.5"
  }
 },
 "nbformat": 4,
 "nbformat_minor": 5
}
