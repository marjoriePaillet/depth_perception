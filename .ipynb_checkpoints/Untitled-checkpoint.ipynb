{
 "cells": [
  {
   "cell_type": "code",
   "execution_count": 1,
   "id": "38f2bb4f",
   "metadata": {},
   "outputs": [],
   "source": [
    "from reachy_sdk import ReachySDK\n",
    "from reachy_sdk.trajectory import goto\n",
    "reachy = ReachySDK(host='localhost')"
   ]
  },
  {
   "cell_type": "code",
   "execution_count": 3,
   "id": "561e21be",
   "metadata": {},
   "outputs": [],
   "source": [
    "import time\n",
    "import numpy as np\n",
    "from scipy.spatial.transform import Rotation as R"
   ]
  },
  {
   "cell_type": "code",
   "execution_count": 6,
   "id": "14bffc57",
   "metadata": {
    "scrolled": true
   },
   "outputs": [
    {
     "name": "stdout",
     "output_type": "stream",
     "text": [
      "<Holder\n",
      "\t<Joint name=\"r_shoulder_pitch\" pos=\"-11.67\" mode=\"compliant\">\n",
      "\t<Joint name=\"r_shoulder_roll\" pos=\"2.13\" mode=\"compliant\">\n",
      "\t<Joint name=\"r_arm_yaw\" pos=\"3.38\" mode=\"compliant\">\n",
      "\t<Joint name=\"r_elbow_pitch\" pos=\"-91.03\" mode=\"compliant\">\n",
      "\t<Joint name=\"r_forearm_yaw\" pos=\"-4.25\" mode=\"compliant\">\n",
      "\t<Joint name=\"r_wrist_pitch\" pos=\"9.98\" mode=\"compliant\">\n",
      "\t<Joint name=\"r_wrist_roll\" pos=\"6.01\" mode=\"compliant\">\n",
      "\t<Joint name=\"r_gripper\" pos=\"17.16\" mode=\"compliant\">\n",
      ">\n"
     ]
    }
   ],
   "source": [
    "print(reachy.joints)"
   ]
  },
  {
   "cell_type": "code",
   "execution_count": 6,
   "id": "b7315108",
   "metadata": {},
   "outputs": [],
   "source": [
    "recorded_joints = [\n",
    "            reachy.r_arm.r_shoulder_pitch,\n",
    "            reachy.r_arm.r_shoulder_roll,\n",
    "            reachy.r_arm.r_arm_yaw,\n",
    "            reachy.r_arm.r_elbow_pitch,\n",
    "            reachy.r_arm.r_forearm_yaw,\n",
    "            reachy.r_arm.r_wrist_pitch,\n",
    "            reachy.r_arm.r_wrist_roll,\n",
    "        ]\n",
    "trajectories = [[-6.83, -6.48, 41.54, -82.51, -11, -7.96, 45.01, 18.62], [-7.36, 1.87, 41.27, -76.97, -3.67, -7.16, 38.27, 18.62], [-21.08, 2.66, 60.97, -66.51, -15.40, -14.55, 30.35, 15.40], [-23.71, 16.29, 60.97, -60.42, -10.70, -21.58, 25.95, 15.10], [-32.77, 13.47, 61.14, -43.21, -18.04, -24.04, 28.89, 18.62], [-25.91, 3.10, 57.71, -59.74, -15.98, -16.66, 24.78, 13.34], [-22.22, -12.72, 57.63, -72.31, -21.55, -20.44, 23.02, 13.93]]\n",
    "point = []\n",
    "point.append(dict(zip(recorded_joints, trajectories[0])))\n",
    "point.append(dict(zip(recorded_joints, trajectories[1])))\n",
    "point.append(dict(zip(recorded_joints, trajectories[2])))\n",
    "point.append(dict(zip(recorded_joints, trajectories[3])))\n",
    "point.append(dict(zip(recorded_joints, trajectories[4])))\n",
    "point.append(dict(zip(recorded_joints, trajectories[5])))\n",
    "point.append(dict(zip(recorded_joints, trajectories[6])))\n",
    "\n",
    "# Goes to the start of the trajectory in 3s\n",
    "reachy.turn_on('r_arm')\n",
    "for i in range(7):\n",
    "    goto(point[i], duration=1.0)\n",
    "    time.sleep(1)\n",
    "# goto(B_point, duration=1.0)\n",
    "# time.sleep(1)\n",
    "\n",
    "reachy.turn_off_smoothly('r_arm')   "
   ]
  },
  {
   "cell_type": "code",
   "execution_count": 2,
   "id": "e532606e",
   "metadata": {},
   "outputs": [],
   "source": [
    "reachy.turn_off_smoothly('r_arm')  "
   ]
  },
  {
   "cell_type": "code",
   "execution_count": 9,
   "id": "32838c11",
   "metadata": {},
   "outputs": [
    {
     "name": "stdout",
     "output_type": "stream",
     "text": [
      "[[ 0.09758459 -0.07905969 -0.99208206  0.27631409]\n",
      " [ 0.02609731  0.99670024 -0.0768607  -0.18966611]\n",
      " [ 0.99488501 -0.01839026  0.09932583 -0.41255095]\n",
      " [ 0.          0.          0.          1.        ]]\n",
      "[-10.4895723  -84.20243777  14.97238773]\n"
     ]
    }
   ],
   "source": [
    "re = reachy.r_arm.forward_kinematics()\n",
    "print(re)\n",
    "print(R.from_matrix(re[:3,:3]).as_euler('xyz',degrees=True))"
   ]
  },
  {
   "cell_type": "code",
   "execution_count": 28,
   "id": "bc76221a",
   "metadata": {},
   "outputs": [
    {
     "name": "stdout",
     "output_type": "stream",
     "text": [
      "[[ 0.0012022  -0.75333626 -0.65763442  0.14469907]\n",
      " [-0.0345694   0.65721052 -0.75291387 -0.01535689]\n",
      " [ 0.99940158  0.02363918 -0.02525228 -0.38707211]\n",
      " [ 0.          0.          0.          1.        ]]\n",
      "[136.8897104  -88.01772668 -88.0082644 ]\n"
     ]
    }
   ],
   "source": [
    "re = reachy.r_arm.forward_kinematics()\n",
    "print(re)\n",
    "print(R.from_matrix(re[:3,:3]).as_euler('xyz',degrees=True))"
   ]
  },
  {
   "cell_type": "code",
   "execution_count": null,
   "id": "85b748a4",
   "metadata": {},
   "outputs": [],
   "source": [
    "joint = reachy.joints"
   ]
  },
  {
   "cell_type": "code",
   "execution_count": 36,
   "id": "eff13d80",
   "metadata": {},
   "outputs": [
    {
     "name": "stdout",
     "output_type": "stream",
     "text": [
      "[[ 0.   -0.66 -0.75  0.39]\n",
      " [ 0.    0.75 -0.66  0.15]\n",
      " [ 1.    0.    0.   -0.23]\n",
      " [ 0.    0.    0.    1.  ]]\n",
      "joint_theo= [-22.364774560371558, 24.861158684633605, 31.25472230715299, -59.01309897420809, 7.756902735575436, 1.1380022285877975, 3.001204527200582]\n",
      "[[ 5.17838485e-05 -6.60371866e-01 -7.50938743e-01  3.89999851e-01]\n",
      " [ 3.38164108e-05  7.50938745e-01 -6.60371865e-01  1.49999928e-01]\n",
      " [ 9.99999998e-01  8.80254360e-06  6.12179045e-05 -2.29999977e-01]\n",
      " [ 0.00000000e+00  0.00000000e+00  0.00000000e+00  1.00000000e+00]]\n",
      "<Holder\n",
      "\t<Joint name=\"r_shoulder_pitch\" pos=\"-19.32\" mode=\"stiff\">\n",
      "\t<Joint name=\"r_shoulder_roll\" pos=\"8.20\" mode=\"stiff\">\n",
      "\t<Joint name=\"r_arm_yaw\" pos=\"30.11\" mode=\"stiff\">\n",
      "\t<Joint name=\"r_elbow_pitch\" pos=\"-57.89\" mode=\"stiff\">\n",
      "\t<Joint name=\"r_forearm_yaw\" pos=\"7.48\" mode=\"stiff\">\n",
      "\t<Joint name=\"r_wrist_pitch\" pos=\"1.19\" mode=\"stiff\">\n",
      "\t<Joint name=\"r_wrist_roll\" pos=\"3.96\" mode=\"stiff\">\n",
      "\t<Joint name=\"r_gripper\" pos=\"-7.77\" mode=\"stiff\">\n",
      ">\n",
      "[[ 0.09334937 -0.58560374 -0.80520442  0.40594995]\n",
      " [ 0.26361865  0.79440986 -0.54719118  0.0269706 ]\n",
      " [ 0.96009953 -0.16118695  0.22853373 -0.33528708]\n",
      " [ 0.          0.          0.          1.        ]]\n"
     ]
    },
    {
     "name": "stderr",
     "output_type": "stream",
     "text": [
      "Exception in thread Thread-4:\n",
      "Traceback (most recent call last):\n",
      "  File \"/usr/lib/python3.8/threading.py\", line 932, in _bootstrap_inner\n",
      "    self.run()\n",
      "  File \"/usr/lib/python3.8/threading.py\", line 870, in run\n",
      "    self._target(*self._args, **self._kwargs)\n",
      "  File \"/home/reachy/dev/reachy-sdk/reachy_sdk/reachy_sdk.py\", line 176, in _start_sync_in_bg\n",
      "    loop.run_until_complete(self._sync_loop())\n",
      "  File \"/usr/lib/python3.8/asyncio/base_events.py\", line 616, in run_until_complete\n",
      "    return future.result()\n",
      "  File \"/home/reachy/dev/reachy-sdk/reachy_sdk/reachy_sdk.py\", line 231, in _sync_loop\n",
      "    await asyncio.gather(\n",
      "  File \"/home/reachy/dev/reachy-sdk/reachy_sdk/reachy_sdk.py\", line 186, in _get_stream_update_loop\n",
      "    async for state_update in joint_stub.StreamJointsState(stream_req):\n",
      "  File \"/home/reachy/.local/lib/python3.8/site-packages/grpc/aio/_call.py\", line 321, in _fetch_stream_responses\n",
      "    await self._raise_for_status()\n",
      "  File \"/home/reachy/.local/lib/python3.8/site-packages/grpc/aio/_call.py\", line 231, in _raise_for_status\n",
      "    raise _create_rpc_error(await self.initial_metadata(), await\n",
      "grpc.aio._call.AioRpcError: <AioRpcError of RPC that terminated with:\n",
      "\tstatus = StatusCode.UNAVAILABLE\n",
      "\tdetails = \"Cancelling all calls\"\n",
      "\tdebug_error_string = \"{\"created\":\"@1626096436.402480643\",\"description\":\"Error received from peer ipv6:[::1]:50055\",\"file\":\"src/core/lib/surface/call.cc\",\"file_line\":1066,\"grpc_message\":\"Cancelling all calls\",\"grpc_status\":14}\"\n",
      ">\n"
     ]
    }
   ],
   "source": [
    "M = [np.array([[0, -0.66, -0.75,  0.39],\n",
    " [0,  0.75, -0.66,  0.15],\n",
    " [1,  0,  0, -0.23],\n",
    " [0,  0,  0,  1]]),\n",
    "# np.array([[0, -0.98,  0.16,  0.15],\n",
    "#  [0, 0.17, -0.98,  -0.06],\n",
    "#  [1,  0, 0, -0.3],\n",
    "#  [0, 0,  0,  1]]),\n",
    "# np.array([[0, -0.66, -0.75,  0.39],\n",
    "#  [0,  0.75, -0.66,  0.04],\n",
    "#  [1,  0,  0, -0.23],\n",
    "#  [0,  0,  0,  1]]),\n",
    "# np.array([[0, -0.69,  -0.71,  0.44],\n",
    "#  [0, 0.71, -0.69,  0.089],\n",
    "#  [1,  0, 0, -0.22],\n",
    "#  [0, 0,  0,  1]])\n",
    "# np.array([[-0.07979978, -0.99338745, -0.08254311,  0.28355001],\n",
    "#  [-0.07562723,  0.08860207, -0.99319192,  0.14130835],\n",
    "#  [ 0.99393788, -0.07301399, -0.08219757, -0.29623623],\n",
    "#  [ 0.,          0.,          0.,          1.,        ]]),\n",
    "# np.array([[-0.08654919, -0.9943777,  -0.0610101,   0.28246602],\n",
    "#  [-0.04173412,  0.064805,   -0.99702486,  0.18686002],\n",
    "#  [ 0.99537305, -0.08374549, -0.0471083,  -0.26],\n",
    "#  [ 0.,          0.,          0.,          1.,        ]]),\n",
    "# np.array([[ 0.03841574, -0.99477811, -0.09455547,  0.2617683 ],\n",
    "#  [-0.11786281,  0.08945399, -0.98899259,  0.18589666],\n",
    "#  [ 0.99228655,  0.04913746, -0.11381091, -0.28313679],\n",
    "#  [ 0.,          0.,          0.,          1.        ]]),\n",
    "# np.array([[-0.1314988,  -0.94107359, -0.31159036,  0.35870463],\n",
    "#  [-0.0250321,   0.31737182, -0.94797074,  0.07300856],\n",
    "#  [ 0.99100023, -0.11685725, -0.06529106, -0.2981114 ],\n",
    "#  [ 0.,          0.,          0.,          1.        ]]),\n",
    "# np.array([[-0.07727944, -0.97297042, -0.21761539,  0.33970549],\n",
    "#  [ 0.00556261,  0.21784396, -0.97596776, -0.01811426],\n",
    "#  [ 0.99699395, -0.07663275, -0.01142261, -0.31127106],\n",
    "#  [ 0.,          0.,          0.,          1.,        ]])\n",
    "]\n",
    "\n",
    "A = np.array([[0, -0.66, -0.75,  0.39-0.01],\n",
    " [0,  0.75, -0.66,  0.095-0.1],\n",
    " [1,  0,  0, -0.23],\n",
    " [0,  0,  0,  1]])\n",
    "\n",
    "reachy.turn_on('r_arm')\n",
    "# q = {\"r_shoulder_pitch\":-25.82, \"r_shoulder_roll\": -9.47, \"r_arm_yaw\": 59.38, \"r_elbow_pitch\": -72.22, \"r_forearm_yaw\": -15.69, \"r_wrist_pitch\": -3.21, \"r_wrist_roll\": 18.91}\n",
    "# joint_pos_init = reachy.r_arm.inverse_kinematics(A)\n",
    "# q = {\n",
    "#     reachy.r_arm.r_shoulder_pitch: joint_pos_init[0],\n",
    "#     reachy.r_arm.r_shoulder_roll: joint_pos_init[1],\n",
    "#     reachy.r_arm.r_arm_yaw: joint_pos_init[2],\n",
    "#     reachy.r_arm.r_elbow_pitch: joint_pos_init[3],\n",
    "#     reachy.r_arm.r_forearm_yaw: joint_pos_init[4],\n",
    "#     reachy.r_arm.r_wrist_pitch: joint_pos_init[5],\n",
    "#     reachy.r_arm.r_wrist_roll: joint_pos_init[6],\n",
    "# }\n",
    "\n",
    "for mat in M:\n",
    "    print(mat)\n",
    "    joint_pos = reachy.r_arm.inverse_kinematics(mat)\n",
    "    print('joint_theo= ' + str(joint_pos))\n",
    "    print(reachy.r_arm.forward_kinematics(joint_pos))\n",
    "    goto(goal_positions={joint: pos for joint,pos in zip(reachy.r_arm.joints.values(), joint_pos)}, duration=1.0) #, starting_positions=q)\n",
    "    time.sleep(5)\n",
    "    re = reachy.r_arm.forward_kinematics()\n",
    "    print(reachy.joints)\n",
    "    print(re)\n",
    "#     M[1][3] = M[1][3] + 0.05\n",
    "reachy.turn_off_smoothly('r_arm')"
   ]
  },
  {
   "cell_type": "code",
   "execution_count": 30,
   "id": "41ff2dc5",
   "metadata": {},
   "outputs": [
    {
     "name": "stdout",
     "output_type": "stream",
     "text": [
      "[[ 0.116 -0.98  -0.14   0.1  ]\n",
      " [-0.018  0.14  -0.99  -0.01 ]\n",
      " [ 0.99   0.12  -0.002 -0.25 ]\n",
      " [ 0.     0.     0.     1.   ]]\n",
      "[[ 0.14134169 -0.97705829 -0.15930985  0.10695501]\n",
      " [ 0.0395337   0.16636789 -0.98527093 -0.01362231]\n",
      " [ 0.98917117  0.13296175  0.06214145 -0.27114671]\n",
      " [ 0.          0.          0.          1.        ]]\n",
      "[[ 0.116 -0.98  -0.14   0.15 ]\n",
      " [-0.018  0.14  -0.99  -0.01 ]\n",
      " [ 0.99   0.12  -0.002 -0.25 ]\n",
      " [ 0.     0.     0.     1.   ]]\n",
      "[[ 0.1457987  -0.98072507 -0.13008101  0.1450774 ]\n",
      " [ 0.01618665  0.1338332  -0.99087167 -0.00868693]\n",
      " [ 0.98918185  0.14236223  0.03538736 -0.26274477]\n",
      " [ 0.          0.          0.          1.        ]]\n",
      "[[ 0.116 -0.98  -0.14   0.2  ]\n",
      " [-0.018  0.14  -0.99  -0.01 ]\n",
      " [ 0.99   0.12  -0.002 -0.25 ]\n",
      " [ 0.     0.     0.     1.   ]]\n",
      "[[ 0.16414468 -0.97633006 -0.14084084  0.19158292]\n",
      " [ 0.01371567  0.14502256 -0.98933328 -0.00500886]\n",
      " [ 0.98634092  0.16046207  0.0371957  -0.2657741 ]\n",
      " [ 0.          0.          0.          1.        ]]\n",
      "[[ 0.116 -0.98  -0.14   0.25 ]\n",
      " [-0.018  0.14  -0.99  -0.01 ]\n",
      " [ 0.99   0.12  -0.002 -0.25 ]\n",
      " [ 0.     0.     0.     1.   ]]\n",
      "[[ 0.17107863 -0.96811735 -0.18297787  0.24172792]\n",
      " [ 0.01926201  0.18896676 -0.98179455 -0.00563525]\n",
      " [ 0.98506907  0.16443955  0.05097606 -0.26973629]\n",
      " [ 0.          0.          0.          1.        ]]\n",
      "[[ 0.116 -0.98  -0.14   0.3  ]\n",
      " [-0.018  0.14  -0.99  -0.01 ]\n",
      " [ 0.99   0.12  -0.002 -0.25 ]\n",
      " [ 0.     0.     0.     1.   ]]\n",
      "[[ 0.18337595 -0.95944237 -0.21411119  0.29067019]\n",
      " [ 0.03388891  0.22384492 -0.97403542 -0.0050715 ]\n",
      " [ 0.98245855  0.17135868  0.07356223 -0.27676758]\n",
      " [ 0.          0.          0.          1.        ]]\n",
      "[[ 0.116 -0.98  -0.14   0.35 ]\n",
      " [-0.018  0.14  -0.99  -0.01 ]\n",
      " [ 0.99   0.12  -0.002 -0.25 ]\n",
      " [ 0.     0.     0.     1.   ]]\n",
      "[[ 0.21240918 -0.93722767 -0.27656219  0.3434585 ]\n",
      " [ 0.0454902   0.29219753 -0.95527548 -0.00973846]\n",
      " [ 0.9761214   0.19032841  0.10470011 -0.28789646]\n",
      " [ 0.          0.          0.          1.        ]]\n",
      "[[ 0.116 -0.98  -0.14   0.4  ]\n",
      " [-0.018  0.14  -0.99  -0.01 ]\n",
      " [ 0.99   0.12  -0.002 -0.25 ]\n",
      " [ 0.     0.     0.     1.   ]]\n",
      "[[ 0.21643597 -0.91716759 -0.33460287  0.39609102]\n",
      " [ 0.04861158  0.35242551 -0.93457647 -0.01326023]\n",
      " [ 0.97508583  0.18601039  0.12086253 -0.29387639]\n",
      " [ 0.          0.          0.          1.        ]]\n",
      "[[ 0.116 -0.98  -0.14   0.45 ]\n",
      " [-0.018  0.14  -0.99  -0.01 ]\n",
      " [ 0.99   0.12  -0.002 -0.25 ]\n",
      " [ 0.     0.     0.     1.   ]]\n",
      "[[ 0.23825754 -0.88823774 -0.39276846  0.44539665]\n",
      " [ 0.04879444  0.41485186 -0.90857968 -0.01708685]\n",
      " [ 0.96997549  0.19731104  0.14218265 -0.30561823]\n",
      " [ 0.          0.          0.          1.        ]]\n",
      "[[ 0.116 -0.98  -0.14   0.5  ]\n",
      " [-0.018  0.14  -0.99  -0.01 ]\n",
      " [ 0.99   0.12  -0.002 -0.25 ]\n",
      " [ 0.     0.     0.     1.   ]]\n",
      "[[ 0.25497999 -0.83033669 -0.49550599  0.50274275]\n",
      " [ 0.01139588  0.51498906 -0.857121   -0.02675945]\n",
      " [ 0.96687918  0.21290198  0.14077432 -0.31069431]\n",
      " [ 0.          0.          0.          1.        ]]\n"
     ]
    }
   ],
   "source": [
    "M = np.array([[ 0.116, -0.98, -0.14,   0.10],\n",
    " [-0.018,  0.14, -0.99,  -0.01], #0.05\n",
    " [ 0.99,  0.12, -0.002,  -0.25],\n",
    " [ 0.,          0.,          0.,          1.        ]])\n",
    "reachy.turn_on('r_arm')\n",
    "\n",
    "for i in range(9):\n",
    "    print(M)\n",
    "    joint_pos = reachy.r_arm.inverse_kinematics(M)\n",
    "    goto(goal_positions={joint: pos for joint,pos in zip(reachy.r_arm.joints.values(), joint_pos)}, duration=1.0) #, starting_positions=q)\n",
    "    time.sleep(2)\n",
    "    re = reachy.r_arm.forward_kinematics()\n",
    "    print(re)\n",
    "    M[0][3]+=0.05\n",
    "#     M[1][3] = M[1][3] + 0.05\n",
    "reachy.turn_off_smoothly('r_arm')"
   ]
  },
  {
   "cell_type": "code",
   "execution_count": 54,
   "id": "a6c09624",
   "metadata": {},
   "outputs": [],
   "source": [
    "reachy.turn_off_smoothly('r_arm')  "
   ]
  },
  {
   "cell_type": "code",
   "execution_count": 20,
   "id": "56faf3f7",
   "metadata": {},
   "outputs": [
    {
     "ename": "TypeError",
     "evalue": "'DeviceHolder' object is not callable",
     "output_type": "error",
     "traceback": [
      "\u001b[0;31m--------------------------------------\u001b[0m",
      "\u001b[0;31mTypeError\u001b[0mTraceback (most recent call last)",
      "\u001b[0;32m<ipython-input-20-d1e17c835910>\u001b[0m in \u001b[0;36m<module>\u001b[0;34m\u001b[0m\n\u001b[0;32m----> 1\u001b[0;31m \u001b[0mprint\u001b[0m\u001b[0;34m(\u001b[0m\u001b[0mreachy\u001b[0m\u001b[0;34m.\u001b[0m\u001b[0mr_arm\u001b[0m\u001b[0;34m.\u001b[0m\u001b[0mjoints\u001b[0m\u001b[0;34m(\u001b[0m\u001b[0;34m)\u001b[0m\u001b[0;34m)\u001b[0m\u001b[0;34m\u001b[0m\u001b[0;34m\u001b[0m\u001b[0m\n\u001b[0m",
      "\u001b[0;31mTypeError\u001b[0m: 'DeviceHolder' object is not callable"
     ]
    }
   ],
   "source": [
    "print(reachy.joints)"
   ]
  },
  {
   "cell_type": "code",
   "execution_count": 31,
   "id": "81d800c3",
   "metadata": {},
   "outputs": [],
   "source": [
    "reachy.r_arm.r_wrist_pitch.compliant = True"
   ]
  },
  {
   "cell_type": "code",
   "execution_count": 28,
   "id": "11b5436a",
   "metadata": {},
   "outputs": [],
   "source": [
    "reachy.r_arm.r_wrist_roll.compliant = True"
   ]
  },
  {
   "cell_type": "code",
   "execution_count": 19,
   "id": "c366e01b",
   "metadata": {},
   "outputs": [],
   "source": [
    "d = -91.3"
   ]
  },
  {
   "cell_type": "code",
   "execution_count": 51,
   "id": "92cde822",
   "metadata": {},
   "outputs": [],
   "source": [
    "p = reachy.r_arm.r_elbow_pitch.present_position"
   ]
  },
  {
   "cell_type": "code",
   "execution_count": 52,
   "id": "9e37f4a0",
   "metadata": {},
   "outputs": [
    {
     "name": "stdout",
     "output_type": "stream",
     "text": [
      "-1.759999999999991\n",
      "-91.3\n",
      "-89.54\n"
     ]
    }
   ],
   "source": [
    "e = d - p\n",
    "print(e)\n",
    "kp = 1\n",
    "c = p + kp*e\n",
    "print(c)\n",
    "print(p)"
   ]
  },
  {
   "cell_type": "code",
   "execution_count": 49,
   "id": "51bbdd7d",
   "metadata": {},
   "outputs": [],
   "source": [
    "reachy.turn_on(\"r_arm\")"
   ]
  },
  {
   "cell_type": "code",
   "execution_count": 53,
   "id": "2a56c5ff",
   "metadata": {},
   "outputs": [],
   "source": [
    "reachy.r_arm.r_elbow_pitch.goal_position = c"
   ]
  },
  {
   "cell_type": "code",
   "execution_count": 24,
   "id": "c642c4ca",
   "metadata": {},
   "outputs": [],
   "source": [
    "import numpy as np"
   ]
  },
  {
   "cell_type": "code",
   "execution_count": 25,
   "id": "a21751a7",
   "metadata": {},
   "outputs": [
    {
     "data": {
      "text/plain": [
       "-54.4309905374282"
      ]
     },
     "execution_count": 25,
     "metadata": {},
     "output_type": "execute_result"
    }
   ],
   "source": [
    "np.rad2deg(-0.95)"
   ]
  },
  {
   "cell_type": "code",
   "execution_count": 27,
   "id": "35cb693f",
   "metadata": {},
   "outputs": [
    {
     "data": {
      "text/plain": [
       "34.95042550298022"
      ]
     },
     "execution_count": 27,
     "metadata": {},
     "output_type": "execute_result"
    }
   ],
   "source": [
    "np.rad2deg(0.61)"
   ]
  },
  {
   "cell_type": "code",
   "execution_count": 4,
   "id": "d3f11ff2",
   "metadata": {},
   "outputs": [
    {
     "name": "stdout",
     "output_type": "stream",
     "text": [
      "[[[21. 18. 15.]\n",
      "  [ 6.  9. 12.]\n",
      "  [24.  3.  0.]]\n",
      "\n",
      " [[22. 19. 16.]\n",
      "  [ 7. 10. 13.]\n",
      "  [25.  4.  1.]]\n",
      "\n",
      " [[23. 20. 17.]\n",
      "  [ 8. 11. 14.]\n",
      "  [26.  5.  2.]]]\n"
     ]
    }
   ],
   "source": [
    "with open('datas_id.npy', 'rb') as f:\n",
    "\n",
    "    a = np.load(f)\n",
    "\n",
    "print(a)"
   ]
  },
  {
   "cell_type": "code",
   "execution_count": null,
   "id": "1649e4e9",
   "metadata": {},
   "outputs": [],
   "source": []
  }
 ],
 "metadata": {
  "kernelspec": {
   "display_name": "Python 3",
   "language": "python",
   "name": "python3"
  },
  "language_info": {
   "codemirror_mode": {
    "name": "ipython",
    "version": 3
   },
   "file_extension": ".py",
   "mimetype": "text/x-python",
   "name": "python",
   "nbconvert_exporter": "python",
   "pygments_lexer": "ipython3",
   "version": "3.8.5"
  }
 },
 "nbformat": 4,
 "nbformat_minor": 5
}
